{
 "cells": [
  {
   "cell_type": "markdown",
   "id": "bd0b4fa9",
   "metadata": {},
   "source": [
    "# Relationships API methods"
   ]
  },
  {
   "cell_type": "markdown",
   "id": "eda71d84",
   "metadata": {},
   "source": [
    "This notebook describes a basic flow in the context of relationships between entities with the API provided by ML-Git.\n",
    "\n",
    "In it, we'll show you how to use the set of commands provided. You can check the documentation for more information: [API documentation](https://github.com/HPInc/ml-git/blob/main/docs/api/README.md)\n",
    "\n",
    "### Notebook prerequisites\n",
    "\n",
    "This notebook uses the GitHub API to access a reset and does Ml-Git operations on its contents, so before running this notebook, take the following steps:\n",
    "\n",
    "- Have a GitHub [SHH access key](https://docs.github.com/en/authentication/connecting-to-github-with-ssh/adding-a-new-ssh-key-to-your-github-account) so that you can use the repository information retrieval API.\n",
    "\n",
    "- Have a GitHub repository that the SHH key has access to.\n",
    "\n",
    "### 1 - Context\n",
    "\n",
    "In this notebook we consider a scenario of an ML-Git project with the following settings:\n",
    "\n",
    "- A versioned config file in GitHub. Pointing to the entities' metadata repositories.\n",
    "\n",
    "- Each entity type having its metadata repository.\n",
    "\n",
    "- One mode entity (model-ex), two labels entities (labels-ex and labels-ex2) and one dataset entity (dataset-ex)\n",
    "\n",
    "- Entities have relationships defined at versioning time.\n",
    "\n",
    "This settings mentioned above can be better visualized in the diagram below:\n",
    "\n",
    "<img width=\"800\" alt=\"portfolio_view\" src=\"relationship_diagram.png\">\n",
    "\n",
    "### 2 - Configuring\n",
    "\n",
    "To use the methods, you will need to import the API and define some constants related to the user's credential:"
   ]
  },
  {
   "cell_type": "markdown",
   "id": "03883406",
   "metadata": {},
   "source": [
    "Below are the constants described in the pre-requirements section, where:['removed'] should be replaced by the SHH access key and api_url can be modified if necessary as reported in the GitHub API documentation."
   ]
  },
  {
   "cell_type": "code",
   "execution_count": 1,
   "id": "fab190e2",
   "metadata": {},
   "outputs": [
    {
     "name": "stdout",
     "output_type": "stream",
     "text": [
      "\r"
     ]
    }
   ],
   "source": [
    "from ml_git.api import MLGitAPI\n",
    "from ml_git import api\n",
    "\n",
    "github_token = ['removed']\n",
    "api_url = 'https://api.github.com'"
   ]
  },
  {
   "cell_type": "markdown",
   "id": "4a431965",
   "metadata": {},
   "source": [
    "After defining the variables to configure, it will be possible to start a manager that will be responsible for operating on the github API."
   ]
  },
  {
   "cell_type": "code",
   "execution_count": 2,
   "id": "04fcab0b",
   "metadata": {},
   "outputs": [
    {
     "name": "stdout",
     "output_type": "stream",
     "text": [
      "\r"
     ]
    }
   ],
   "source": [
    "api = MLGitAPI()\n",
    "manager = api.init_entity_manager(github_token, api_url)"
   ]
  },
  {
   "cell_type": "markdown",
   "id": "53372993",
   "metadata": {},
   "source": [
    "We will use the manager to execute the commands in the next steps."
   ]
  },
  {
   "cell_type": "markdown",
   "id": "36f272e1",
   "metadata": {},
   "source": [
    "### 3 - Methods"
   ]
  },
  {
   "cell_type": "markdown",
   "id": "f295424a",
   "metadata": {},
   "source": [
    "#### 3.1 - Get Entities"
   ]
  },
  {
   "cell_type": "markdown",
   "id": "9a1bb889",
   "metadata": {},
   "source": [
    "The *get_entities* method allows the user to get a list of entities being versioned in a project. For this, the user must inform the path to the configuration file, whether this path is a local directory or the name of a git repository. The path can be modified using the config_repository_name field, in our example case the configuration file is in 'user/mlgit-config-repository."
   ]
  },
  {
   "cell_type": "code",
   "execution_count": 3,
   "id": "59d114a6",
   "metadata": {
    "scrolled": true
   },
   "outputs": [
    {
     "name": "stdout",
     "output_type": "stream",
     "text": [
      "Entities found: 4\n",
      "Example of output object:\n",
      "{\n",
      "  \"name\": \"model-ex\",\n",
      "  \"entity_type\": \"model\",\n",
      "  \"metadata\": {\n",
      "    \"full_name\": \"user/mlgit-models\",\n",
      "    \"git_url\": \"git@github.com:user/mlgit-models.git\",\n",
      "    \"html_url\": \"https://github.com/user/mlgit-models\",\n",
      "    \"owner_email\": \"user@gmail.com\",\n",
      "    \"owner_name\": \"User Name\"\n",
      "  },\n",
      "  \"last_spec_version\": {\n",
      "    \"version\": 3,\n",
      "    \"tag\": \"test__model-ex__3\",\n",
      "    \"mutability\": \"flexible\",\n",
      "    \"categories\": [\n",
      "      \"test\"\n",
      "    ],\n",
      "    \"amount\": 3,\n",
      "    \"size\": \"27 Bytes\",\n",
      "    \"storage\": {\n",
      "      \"type\": \"s3h\",\n",
      "      \"bucket\": \"mlgit-bucket\"\n",
      "    }\n",
      "  }\n",
      "}\n",
      "\r"
     ]
    }
   ],
   "source": [
    "config_repository_name='user/mlgit-config-repository'\n",
    "\n",
    "project_entities = manager.get_entities(config_repo_name=config_repository_name)\n",
    "\n",
    "print(\"Entities found: {}\".format(len(project_entities)))\n",
    "print(\"Example of output object:\\n{}\".format(project_entities[3]))"
   ]
  },
  {
   "cell_type": "markdown",
   "id": "64d15bce",
   "metadata": {},
   "source": [
    "As expected the API found 4 entities in the repository (dataset-ex, model-ex, labels-ex, labels-ex2)."
   ]
  },
  {
   "cell_type": "markdown",
   "id": "06555985",
   "metadata": {},
   "source": [
    "#### 3.2 - Get Entity Versions\n",
    "\n",
    "The *get_entity_version* method allows the user to get a list of spec versions found for an especific entity."
   ]
  },
  {
   "cell_type": "code",
   "execution_count": 4,
   "id": "1700861b",
   "metadata": {},
   "outputs": [
    {
     "name": "stdout",
     "output_type": "stream",
     "text": [
      "Versions found: 3\n",
      "Example of output object:\n",
      "{\n",
      "  \"version\": 1,\n",
      "  \"tag\": \"test__model-ex__1\",\n",
      "  \"mutability\": \"flexible\",\n",
      "  \"categories\": [\n",
      "    \"test\"\n",
      "  ],\n",
      "  \"amount\": 1,\n",
      "  \"size\": \"9 Bytes\",\n",
      "  \"storage\": {\n",
      "    \"type\": \"s3h\",\n",
      "    \"bucket\": \"mlgit-bucket\"\n",
      "  }\n",
      "}\n",
      "\r"
     ]
    }
   ],
   "source": [
    "selected_entity = project_entities[3]\n",
    "\n",
    "entity_versions = manager.get_entity_versions(selected_entity.name, selected_entity.metadata.full_name)\n",
    "print(\"Versions found: {}\".format(len(entity_versions)))\n",
    "print(\"Example of output object:\\n{}\".format(entity_versions[len(entity_versions)-1]))"
   ]
  },
  {
   "cell_type": "markdown",
   "id": "564d8431",
   "metadata": {},
   "source": [
    "As expected the API found 3 versions for the model-ex entity."
   ]
  },
  {
   "cell_type": "markdown",
   "id": "f1a9f5eb",
   "metadata": {},
   "source": [
    "#### 3.3 - Get Linked Entities\n",
    "\n",
    "The *get_linked_entities* method allows the user to get a list of linked entities found for an entity in a specific version."
   ]
  },
  {
   "cell_type": "code",
   "execution_count": 5,
   "id": "075b0693",
   "metadata": {},
   "outputs": [
    {
     "name": "stdout",
     "output_type": "stream",
     "text": [
      "Output: \n",
      "[{\n",
      "  \"tag\": \"test__dataset-ex__1\",\n",
      "  \"name\": \"dataset-ex\",\n",
      "  \"version\": \"1\",\n",
      "  \"entity_type\": \"dataset\"\n",
      "}, {\n",
      "  \"tag\": \"test__labels-ex__1\",\n",
      "  \"name\": \"labels-ex\",\n",
      "  \"version\": \"1\",\n",
      "  \"entity_type\": \"labels\"\n",
      "}]\n",
      "\r"
     ]
    }
   ],
   "source": [
    "entity_version = 1\n",
    "linked_entities_in_version = manager.get_linked_entities(selected_entity.name, entity_version, selected_entity.metadata.full_name)\n",
    "print(\"Output: \\n{}\".format(linked_entities_in_version))"
   ]
  },
  {
   "cell_type": "markdown",
   "id": "f3b07400",
   "metadata": {},
   "source": [
    "If we go back to the diagram, we can see that as shown in the output, version 1 of the model-ex entity is related to dataset-ex in version 1 and labels-ex in version 1."
   ]
  },
  {
   "cell_type": "markdown",
   "id": "c1700924",
   "metadata": {},
   "source": [
    "#### 3.4 - Get Entity Relationships\n",
    "\n",
    "The *get_linked_entities* method allows the user to get the list of all relationships that the specific entity has. For this it goes through all versions of the entity and checks the relationships that have been established."
   ]
  },
  {
   "cell_type": "code",
   "execution_count": 6,
   "id": "f7d27a30",
   "metadata": {},
   "outputs": [
    {
     "name": "stdout",
     "output_type": "stream",
     "text": [
      "Relationships found: 6\n",
      "Example of output object:\n",
      "{\n",
      "  \"version\": 3,\n",
      "  \"tag\": \"test__model-ex__3\",\n",
      "  \"relationships\": [\n",
      "    {\n",
      "      \"tag\": \"test__dataset-ex__3\",\n",
      "      \"name\": \"dataset-ex\",\n",
      "      \"version\": \"3\",\n",
      "      \"entity_type\": \"dataset\"\n",
      "    },\n",
      "    {\n",
      "      \"tag\": \"test__labels-ex2__2\",\n",
      "      \"name\": \"labels-ex2\",\n",
      "      \"version\": \"2\",\n",
      "      \"entity_type\": \"labels\"\n",
      "    }\n",
      "  ]\n",
      "}\n",
      "\r"
     ]
    }
   ],
   "source": [
    "entity_relationships = manager.get_entity_relationships(selected_entity.name, selected_entity.metadata.full_name)\n",
    "\n",
    "count_relationships = 0\n",
    "for version in entity_relationships[selected_entity.name]:\n",
    "    count_relationships += len(version.relationships)\n",
    "    \n",
    "print(\"Relationships found: {}\".format(count_relationships))\n",
    "print(\"Example of output object:\\n{}\".format(entity_relationships[selected_entity.name][0]))"
   ]
  },
  {
   "cell_type": "markdown",
   "id": "70afcfdf",
   "metadata": {},
   "source": [
    "In addition, this command allows the user to define the output format, which can be json (as in the previous example) or CSV. If he wants, he can also define the export_path to export the data to a file.\n",
    "\n",
    "An example of how to use the generated csv can be seen below:"
   ]
  },
  {
   "cell_type": "code",
   "execution_count": 7,
   "id": "211db13a",
   "metadata": {},
   "outputs": [
    {
     "data": {
      "text/html": [
       "<div>\n",
       "<style scoped>\n",
       "    .dataframe tbody tr th:only-of-type {\n",
       "        vertical-align: middle;\n",
       "    }\n",
       "\n",
       "    .dataframe tbody tr th {\n",
       "        vertical-align: top;\n",
       "    }\n",
       "\n",
       "    .dataframe thead th {\n",
       "        text-align: right;\n",
       "    }\n",
       "</style>\n",
       "<table border=\"1\" class=\"dataframe\">\n",
       "  <thead>\n",
       "    <tr style=\"text-align: right;\">\n",
       "      <th></th>\n",
       "      <th>from_tag</th>\n",
       "      <th>from_name</th>\n",
       "      <th>from_version</th>\n",
       "      <th>from_type</th>\n",
       "      <th>to_tag</th>\n",
       "      <th>to_name</th>\n",
       "      <th>to_version</th>\n",
       "      <th>to_type</th>\n",
       "    </tr>\n",
       "  </thead>\n",
       "  <tbody>\n",
       "    <tr>\n",
       "      <th>0</th>\n",
       "      <td>test__model-ex__3</td>\n",
       "      <td>model-ex</td>\n",
       "      <td>3</td>\n",
       "      <td>model</td>\n",
       "      <td>test__dataset-ex__3</td>\n",
       "      <td>dataset-ex</td>\n",
       "      <td>3</td>\n",
       "      <td>dataset</td>\n",
       "    </tr>\n",
       "    <tr>\n",
       "      <th>1</th>\n",
       "      <td>test__model-ex__3</td>\n",
       "      <td>model-ex</td>\n",
       "      <td>3</td>\n",
       "      <td>model</td>\n",
       "      <td>test__labels-ex2__2</td>\n",
       "      <td>labels-ex2</td>\n",
       "      <td>2</td>\n",
       "      <td>labels</td>\n",
       "    </tr>\n",
       "    <tr>\n",
       "      <th>2</th>\n",
       "      <td>test__model-ex__2</td>\n",
       "      <td>model-ex</td>\n",
       "      <td>2</td>\n",
       "      <td>model</td>\n",
       "      <td>test__dataset-ex__1</td>\n",
       "      <td>dataset-ex</td>\n",
       "      <td>1</td>\n",
       "      <td>dataset</td>\n",
       "    </tr>\n",
       "    <tr>\n",
       "      <th>3</th>\n",
       "      <td>test__model-ex__2</td>\n",
       "      <td>model-ex</td>\n",
       "      <td>2</td>\n",
       "      <td>model</td>\n",
       "      <td>test__labels-ex__2</td>\n",
       "      <td>labels-ex</td>\n",
       "      <td>2</td>\n",
       "      <td>labels</td>\n",
       "    </tr>\n",
       "    <tr>\n",
       "      <th>4</th>\n",
       "      <td>test__model-ex__1</td>\n",
       "      <td>model-ex</td>\n",
       "      <td>1</td>\n",
       "      <td>model</td>\n",
       "      <td>test__dataset-ex__1</td>\n",
       "      <td>dataset-ex</td>\n",
       "      <td>1</td>\n",
       "      <td>dataset</td>\n",
       "    </tr>\n",
       "    <tr>\n",
       "      <th>5</th>\n",
       "      <td>test__model-ex__1</td>\n",
       "      <td>model-ex</td>\n",
       "      <td>1</td>\n",
       "      <td>model</td>\n",
       "      <td>test__labels-ex__1</td>\n",
       "      <td>labels-ex</td>\n",
       "      <td>1</td>\n",
       "      <td>labels</td>\n",
       "    </tr>\n",
       "  </tbody>\n",
       "</table>\n",
       "</div>"
      ],
      "text/plain": [
       "            from_tag from_name  from_version from_type               to_tag  \\\n",
       "0  test__model-ex__3  model-ex             3     model  test__dataset-ex__3   \n",
       "1  test__model-ex__3  model-ex             3     model  test__labels-ex2__2   \n",
       "2  test__model-ex__2  model-ex             2     model  test__dataset-ex__1   \n",
       "3  test__model-ex__2  model-ex             2     model   test__labels-ex__2   \n",
       "4  test__model-ex__1  model-ex             1     model  test__dataset-ex__1   \n",
       "5  test__model-ex__1  model-ex             1     model   test__labels-ex__1   \n",
       "\n",
       "      to_name  to_version  to_type  \n",
       "0  dataset-ex           3  dataset  \n",
       "1  labels-ex2           2   labels  \n",
       "2  dataset-ex           1  dataset  \n",
       "3   labels-ex           2   labels  \n",
       "4  dataset-ex           1  dataset  \n",
       "5   labels-ex           1   labels  "
      ]
     },
     "execution_count": 7,
     "metadata": {},
     "output_type": "execute_result"
    },
    {
     "name": "stdout",
     "output_type": "stream",
     "text": [
      "\r"
     ]
    }
   ],
   "source": [
    "import pandas as pd\n",
    "\n",
    "entity_relationships_csv = manager.get_entity_relationships(selected_entity.name, selected_entity.metadata.full_name, export_type='csv')\n",
    "\n",
    "df = pd.read_csv(entity_relationships_csv)\n",
    "df"
   ]
  },
  {
   "cell_type": "markdown",
   "id": "f4ad583c",
   "metadata": {},
   "source": [
    "#### 3.5 - Get Project Entities Relationships\n",
    "\n",
    "Like the previous command, the *get_project_entities_relationships* command aims to present the entity relationships, but with this single command the user can capture the relationships of all entities that are in the project.\n",
    "\n",
    "In our case we have 4 versioned entities, so the command will check the relationships of these 4 entities."
   ]
  },
  {
   "cell_type": "code",
   "execution_count": 8,
   "id": "edeb9d10",
   "metadata": {},
   "outputs": [
    {
     "name": "stdout",
     "output_type": "stream",
     "text": [
      "Relationships found: 10\n",
      "Example of output object:\n",
      "{\n",
      "  \"version\": 3,\n",
      "  \"tag\": \"test__model-ex__3\",\n",
      "  \"relationships\": [\n",
      "    {\n",
      "      \"tag\": \"test__dataset-ex__3\",\n",
      "      \"name\": \"dataset-ex\",\n",
      "      \"version\": \"3\",\n",
      "      \"entity_type\": \"dataset\"\n",
      "    },\n",
      "    {\n",
      "      \"tag\": \"test__labels-ex2__2\",\n",
      "      \"name\": \"labels-ex2\",\n",
      "      \"version\": \"2\",\n",
      "      \"entity_type\": \"labels\"\n",
      "    }\n",
      "  ]\n",
      "}\n",
      "\r"
     ]
    }
   ],
   "source": [
    "project_entities_relationships = manager.get_project_entities_relationships(config_repository_name)\n",
    "\n",
    "count_relationships = 0\n",
    "for entity in project_entities_relationships:\n",
    "    for version in project_entities_relationships[entity]:\n",
    "        count_relationships += len(version.relationships)\n",
    "    \n",
    "print(\"Relationships found: {}\".format(count_relationships))\n",
    "print(\"Example of output object:\\n{}\".format(project_entities_relationships[entity][0]))"
   ]
  },
  {
   "cell_type": "markdown",
   "id": "b45c9704",
   "metadata": {},
   "source": [
    "Like the previous one, it is possible to export the result in csv."
   ]
  },
  {
   "cell_type": "code",
   "execution_count": 9,
   "id": "05e99cef",
   "metadata": {},
   "outputs": [
    {
     "data": {
      "text/html": [
       "<div>\n",
       "<style scoped>\n",
       "    .dataframe tbody tr th:only-of-type {\n",
       "        vertical-align: middle;\n",
       "    }\n",
       "\n",
       "    .dataframe tbody tr th {\n",
       "        vertical-align: top;\n",
       "    }\n",
       "\n",
       "    .dataframe thead th {\n",
       "        text-align: right;\n",
       "    }\n",
       "</style>\n",
       "<table border=\"1\" class=\"dataframe\">\n",
       "  <thead>\n",
       "    <tr style=\"text-align: right;\">\n",
       "      <th></th>\n",
       "      <th>from_tag</th>\n",
       "      <th>from_name</th>\n",
       "      <th>from_version</th>\n",
       "      <th>from_type</th>\n",
       "      <th>to_tag</th>\n",
       "      <th>to_name</th>\n",
       "      <th>to_version</th>\n",
       "      <th>to_type</th>\n",
       "    </tr>\n",
       "  </thead>\n",
       "  <tbody>\n",
       "    <tr>\n",
       "      <th>0</th>\n",
       "      <td>test__labels-ex2__2</td>\n",
       "      <td>labels-ex2</td>\n",
       "      <td>2</td>\n",
       "      <td>labels</td>\n",
       "      <td>test__dataset-ex__3</td>\n",
       "      <td>dataset-ex</td>\n",
       "      <td>3</td>\n",
       "      <td>dataset</td>\n",
       "    </tr>\n",
       "    <tr>\n",
       "      <th>1</th>\n",
       "      <td>test__labels-ex2__1</td>\n",
       "      <td>labels-ex2</td>\n",
       "      <td>1</td>\n",
       "      <td>labels</td>\n",
       "      <td>test__dataset-ex__3</td>\n",
       "      <td>dataset-ex</td>\n",
       "      <td>3</td>\n",
       "      <td>dataset</td>\n",
       "    </tr>\n",
       "    <tr>\n",
       "      <th>2</th>\n",
       "      <td>test__labels-ex__2</td>\n",
       "      <td>labels-ex</td>\n",
       "      <td>2</td>\n",
       "      <td>labels</td>\n",
       "      <td>test__dataset-ex__1</td>\n",
       "      <td>dataset-ex</td>\n",
       "      <td>1</td>\n",
       "      <td>dataset</td>\n",
       "    </tr>\n",
       "    <tr>\n",
       "      <th>3</th>\n",
       "      <td>test__labels-ex__1</td>\n",
       "      <td>labels-ex</td>\n",
       "      <td>1</td>\n",
       "      <td>labels</td>\n",
       "      <td>test__dataset-ex__1</td>\n",
       "      <td>dataset-ex</td>\n",
       "      <td>1</td>\n",
       "      <td>dataset</td>\n",
       "    </tr>\n",
       "    <tr>\n",
       "      <th>4</th>\n",
       "      <td>test__model-ex__3</td>\n",
       "      <td>model-ex</td>\n",
       "      <td>3</td>\n",
       "      <td>model</td>\n",
       "      <td>test__dataset-ex__3</td>\n",
       "      <td>dataset-ex</td>\n",
       "      <td>3</td>\n",
       "      <td>dataset</td>\n",
       "    </tr>\n",
       "    <tr>\n",
       "      <th>5</th>\n",
       "      <td>test__model-ex__3</td>\n",
       "      <td>model-ex</td>\n",
       "      <td>3</td>\n",
       "      <td>model</td>\n",
       "      <td>test__labels-ex2__2</td>\n",
       "      <td>labels-ex2</td>\n",
       "      <td>2</td>\n",
       "      <td>labels</td>\n",
       "    </tr>\n",
       "    <tr>\n",
       "      <th>6</th>\n",
       "      <td>test__model-ex__2</td>\n",
       "      <td>model-ex</td>\n",
       "      <td>2</td>\n",
       "      <td>model</td>\n",
       "      <td>test__dataset-ex__1</td>\n",
       "      <td>dataset-ex</td>\n",
       "      <td>1</td>\n",
       "      <td>dataset</td>\n",
       "    </tr>\n",
       "    <tr>\n",
       "      <th>7</th>\n",
       "      <td>test__model-ex__2</td>\n",
       "      <td>model-ex</td>\n",
       "      <td>2</td>\n",
       "      <td>model</td>\n",
       "      <td>test__labels-ex__2</td>\n",
       "      <td>labels-ex</td>\n",
       "      <td>2</td>\n",
       "      <td>labels</td>\n",
       "    </tr>\n",
       "    <tr>\n",
       "      <th>8</th>\n",
       "      <td>test__model-ex__1</td>\n",
       "      <td>model-ex</td>\n",
       "      <td>1</td>\n",
       "      <td>model</td>\n",
       "      <td>test__dataset-ex__1</td>\n",
       "      <td>dataset-ex</td>\n",
       "      <td>1</td>\n",
       "      <td>dataset</td>\n",
       "    </tr>\n",
       "    <tr>\n",
       "      <th>9</th>\n",
       "      <td>test__model-ex__1</td>\n",
       "      <td>model-ex</td>\n",
       "      <td>1</td>\n",
       "      <td>model</td>\n",
       "      <td>test__labels-ex__1</td>\n",
       "      <td>labels-ex</td>\n",
       "      <td>1</td>\n",
       "      <td>labels</td>\n",
       "    </tr>\n",
       "  </tbody>\n",
       "</table>\n",
       "</div>"
      ],
      "text/plain": [
       "              from_tag   from_name  from_version from_type  \\\n",
       "0  test__labels-ex2__2  labels-ex2             2    labels   \n",
       "1  test__labels-ex2__1  labels-ex2             1    labels   \n",
       "2   test__labels-ex__2   labels-ex             2    labels   \n",
       "3   test__labels-ex__1   labels-ex             1    labels   \n",
       "4    test__model-ex__3    model-ex             3     model   \n",
       "5    test__model-ex__3    model-ex             3     model   \n",
       "6    test__model-ex__2    model-ex             2     model   \n",
       "7    test__model-ex__2    model-ex             2     model   \n",
       "8    test__model-ex__1    model-ex             1     model   \n",
       "9    test__model-ex__1    model-ex             1     model   \n",
       "\n",
       "                to_tag     to_name  to_version  to_type  \n",
       "0  test__dataset-ex__3  dataset-ex           3  dataset  \n",
       "1  test__dataset-ex__3  dataset-ex           3  dataset  \n",
       "2  test__dataset-ex__1  dataset-ex           1  dataset  \n",
       "3  test__dataset-ex__1  dataset-ex           1  dataset  \n",
       "4  test__dataset-ex__3  dataset-ex           3  dataset  \n",
       "5  test__labels-ex2__2  labels-ex2           2   labels  \n",
       "6  test__dataset-ex__1  dataset-ex           1  dataset  \n",
       "7   test__labels-ex__2   labels-ex           2   labels  \n",
       "8  test__dataset-ex__1  dataset-ex           1  dataset  \n",
       "9   test__labels-ex__1   labels-ex           1   labels  "
      ]
     },
     "execution_count": 9,
     "metadata": {},
     "output_type": "execute_result"
    },
    {
     "name": "stdout",
     "output_type": "stream",
     "text": [
      "\r"
     ]
    }
   ],
   "source": [
    "project_entities_relationships_csv = manager.get_project_entities_relationships(config_repository_name, export_type='csv')\n",
    "df = pd.read_csv(project_entities_relationships_csv)\n",
    "df"
   ]
  },
  {
   "cell_type": "markdown",
   "id": "1958eeaa",
   "metadata": {},
   "source": [
    "As expected, all the relationships that were highlighted in the diagram were captured by the API."
   ]
  }
 ],
 "metadata": {
  "kernelspec": {
   "display_name": "Python 3.7.0 64-bit",
   "language": "python",
   "name": "python3"
  },
  "language_info": {
   "codemirror_mode": {
    "name": "ipython",
    "version": 3
   },
   "file_extension": ".py",
   "mimetype": "text/x-python",
   "name": "python",
   "nbconvert_exporter": "python",
   "pygments_lexer": "ipython3",
   "version": "3.7.0"
  },
  "pycharm": {
   "stem_cell": {
    "cell_type": "raw",
    "metadata": {
     "collapsed": false
    },
    "source": []
   }
  },
  "vscode": {
   "interpreter": {
    "hash": "d49c3f6d6dd49f9272b571d9fad348ab55b8c6c3f691520d74ed0af1f69c3dd8"
   }
  }
 },
 "nbformat": 4,
 "nbformat_minor": 5
}
