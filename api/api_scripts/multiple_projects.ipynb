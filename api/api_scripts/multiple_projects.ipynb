{
 "cells": [
  {
   "cell_type": "markdown",
   "metadata": {},
   "source": [
    "## Multiple Projects"
   ]
  },
  {
   "cell_type": "markdown",
   "metadata": {},
   "source": [
    "This notebook describes how to work with multiple projects in the ML-Git API."
   ]
  },
  {
   "cell_type": "markdown",
   "metadata": {},
   "source": [
    "### Notebook state management"
   ]
  },
  {
   "cell_type": "markdown",
   "metadata": {},
   "source": [
    "If you have already run this notebook or another in this same folder, it is recommended that you perform a state restart by executing the cell below, because previously performed state changes may interfere with the execution of the notebook."
   ]
  },
  {
   "cell_type": "code",
   "execution_count": null,
   "metadata": {},
   "outputs": [],
   "source": [
    "%cd /api_scripts\n",
    "!rm -rf ./logs\n",
    "!rm -rf .ml-git\n",
    "!rm -rf ./datasets\n",
    "!rm -rf /api_scripts/project_1\n",
    "!rm -rf /api_scripts/project_2"
   ]
  },
  {
   "cell_type": "markdown",
   "metadata": {},
   "source": [
    "### Using multiples projects"
   ]
  },
  {
   "cell_type": "markdown",
   "metadata": {},
   "source": [
    "Let's start creating, for each project, a folder to work with."
   ]
  },
  {
   "cell_type": "code",
   "execution_count": 1,
   "metadata": {},
   "outputs": [
    {
     "name": "stdout",
     "output_type": "stream",
     "text": []
    }
   ],
   "source": [
    "# importing os module\n",
    "import os\n",
    "\n",
    "os.mkdir('project_1')\n",
    "os.mkdir('project_2')"
   ]
  },
  {
   "cell_type": "markdown",
   "metadata": {},
   "source": [
    "To start using the ML-Git API, we need to import it into our script."
   ]
  },
  {
   "cell_type": "code",
   "execution_count": 2,
   "metadata": {},
   "outputs": [
    {
     "name": "stdout",
     "output_type": "stream",
     "text": []
    }
   ],
   "source": [
    "from ml_git.api import MLGitAPI"
   ]
  },
  {
   "cell_type": "markdown",
   "metadata": {},
   "source": [
    "Then we must create a new instance of the API for each project. You can inform the root directory of the project as a parameter. In this scenario, we will be using the relative path to each directory."
   ]
  },
  {
   "cell_type": "code",
   "execution_count": 3,
   "metadata": {},
   "outputs": [
    {
     "name": "stdout",
     "output_type": "stream",
     "text": []
    }
   ],
   "source": [
    "\n",
    "project_1 = MLGitAPI(root_path='./project_1')\n",
    "project_2 = MLGitAPI(root_path='./project_2')"
   ]
  },
  {
   "cell_type": "markdown",
   "metadata": {},
   "source": [
    "We will consider the scenario of a user who wants to configure their projects from scratch. The first step is to define that the directory we are working on will be an ml-git project. To do that, execute the following command:"
   ]
  },
  {
   "cell_type": "code",
   "execution_count": 4,
   "metadata": {},
   "outputs": [
    {
     "name": "stderr",
     "output_type": "stream",
     "text": [
      "INFO - Admin: Initialized empty ml-git repository in C:\\Git\\HP\\ml-git\\docs\\api\\api_scripts\\project_1\\.ml-git\n",
      "INFO - Admin: Initialized empty ml-git repository in C:\\Git\\HP\\ml-git\\docs\\api\\api_scripts\\project_2\\.ml-git\n"
     ]
    },
    {
     "name": "stdout",
     "output_type": "stream",
     "text": []
    }
   ],
   "source": [
    "# project_1.init('repository')\n",
    "# Used CLI method because current api.init can't act on sub folders \n",
    "%cd /api_scripts/project_1\n",
    "!ml-git repository init\n",
    "\n",
    "# project_2.init('repository')\n",
    "# Used CLI method because current api.init can't act on sub folders \n",
    "%cd /api_scripts/project_2\n",
    "!ml-git repository init\n",
    "\n",
    "%cd /api_scripts/"
   ]
  },
  {
   "cell_type": "markdown",
   "metadata": {},
   "source": [
    "We will configure each project with a local git repository and a local MinIO as storage. For this, the following commands are necessary:"
   ]
  },
  {
   "cell_type": "code",
   "execution_count": 5,
   "metadata": {
    "scrolled": true
   },
   "outputs": [
    {
     "name": "stderr",
     "output_type": "stream",
     "text": [
      "INFO - Admin: Add remote repository [/local_server.git/] for [datasets]\n",
      "INFO - Repository: When making changes to the config file we strongly recommend that you upload these changes to the Git repository. For this, see: ml-git repository config push --help\n",
      "INFO - Admin: Add storage [s3h://mlgit]\n",
      "INFO - Admin: When making changes to the config file we strongly recommend that you upload these changes to the Git repository. For this, see: ml-git repository config push --help\n"
     ]
    },
    {
     "name": "stdout",
     "output_type": "stream",
     "text": [
      "/n\n"
     ]
    },
    {
     "name": "stderr",
     "output_type": "stream",
     "text": [
      "INFO - Admin: Add remote repository [/local_server.git/] for [datasets]\n",
      "INFO - Repository: When making changes to the config file we strongly recommend that you upload these changes to the Git repository. For this, see: ml-git repository config push --help\n",
      "INFO - Admin: Add storage [s3h://mlgit]\n",
      "INFO - Admin: When making changes to the config file we strongly recommend that you upload these changes to the Git repository. For this, see: ml-git repository config push --help\n"
     ]
    },
    {
     "name": "stdout",
     "output_type": "stream",
     "text": []
    }
   ],
   "source": [
    "remote_url = '/local_server.git/'\n",
    "bucket_name= 'mlgit'\n",
    "end_point = 'http://127.0.0.1:9000'\n",
    "\n",
    "# The type of entity we are working on\n",
    "entity_type = 'datasets'\n",
    "\n",
    "project_1.remote_add(entity_type, remote_url)\n",
    "project_1.storage_add(bucket_name, endpoint_url=end_point)\n",
    "\n",
    "print('/n')\n",
    "\n",
    "project_2.remote_add(entity_type, remote_url)\n",
    "project_2.storage_add(bucket_name, endpoint_url=end_point)"
   ]
  },
  {
   "cell_type": "markdown",
   "metadata": {},
   "source": [
    "After the projects have been initialized we can continue with the process to create new datasets.\n",
    "To create the specification file for new entities you must run the following commands:"
   ]
  },
  {
   "cell_type": "code",
   "execution_count": 6,
   "metadata": {},
   "outputs": [
    {
     "name": "stderr",
     "output_type": "stream",
     "text": [
      "INFO - MLGit: Dataset artifact created.\n",
      "INFO - MLGit: Dataset artifact created.\n"
     ]
    },
    {
     "name": "stdout",
     "output_type": "stream",
     "text": []
    }
   ],
   "source": [
    "# The entity name we are working on project 1\n",
    "entity_name_1 = 'dataset-ex-1'\n",
    "# The entity name we are working on project 2\n",
    "entity_name_2 = 'dataset-ex-2'\n",
    "\n",
    "project_1.create(entity_type, entity_name_1, categories=['img'], mutability='strict')\n",
    "project_2.create(entity_type, entity_name_2, categories=['img'], mutability='strict')"
   ]
  },
  {
   "cell_type": "markdown",
   "metadata": {},
   "source": [
    "In this example, we demonstrated how to work with multiple projects in the ML-Git API. You can use all commands available in the API with this concept of multiple projects, a complete flow of how to version an entity can be found in the [Basic Flow Notebook](./basic_flow.ipynb)."
   ]
  }
 ],
 "metadata": {
  "kernelspec": {
   "display_name": "Python 3.7.0 64-bit",
   "language": "python",
   "name": "python3"
  },
  "language_info": {
   "codemirror_mode": {
    "name": "ipython",
    "version": 3
   },
   "file_extension": ".py",
   "mimetype": "text/x-python",
   "name": "python",
   "nbconvert_exporter": "python",
   "pygments_lexer": "ipython3",
   "version": "3.7.0"
  },
  "vscode": {
   "interpreter": {
    "hash": "d49c3f6d6dd49f9272b571d9fad348ab55b8c6c3f691520d74ed0af1f69c3dd8"
   }
  }
 },
 "nbformat": 4,
 "nbformat_minor": 4
}
